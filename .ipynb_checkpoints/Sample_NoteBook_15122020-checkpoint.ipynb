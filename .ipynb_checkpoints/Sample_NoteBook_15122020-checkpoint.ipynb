{
 "cells": [
  {
   "cell_type": "markdown",
   "metadata": {},
   "source": [
    "# This is a short notebook to show sample code for my master's application to MILA. For this sample, I decided to show case the training of a DenseNet model. \n",
    "\n",
    "## Thank you for taking the time to read this. Feel free to reach out if you have any questions or comments regarding this. \n",
    "\n",
    "#### Vincent Dandenault - vincent.dandenault@polymtl.ca "
   ]
  },
  {
   "cell_type": "markdown",
   "metadata": {},
   "source": [
    "## Import"
   ]
  },
  {
   "cell_type": "code",
   "execution_count": null,
   "metadata": {},
   "outputs": [],
   "source": [
    "%autosave 30"
   ]
  },
  {
   "cell_type": "code",
   "execution_count": 28,
   "metadata": {},
   "outputs": [],
   "source": [
    "%%capture \n",
    "!pip install keras_tqdm\n",
    "!pip install utils2\n",
    "!pip install keras"
   ]
  },
  {
   "cell_type": "code",
   "execution_count": 40,
   "metadata": {},
   "outputs": [],
   "source": [
    "%%capture \n",
    "#Tools\n",
    "import importlib\n",
    "import utils2\n",
    "from utils2 import *\n",
    "import os \n",
    "import cv2\n",
    "import json\n",
    "from multiprocessing import Process\n",
    "from multiprocessing import Queue\n",
    "\n",
    "#tf\n",
    "import tensorflow as tf\n",
    "from tensorflow.keras.callbacks import EarlyStopping\n",
    "from tensorflow.keras.callbacks import ModelCheckpoint\n",
    "from tensorflow.keras import datasets, layers, models\n",
    "\n",
    "#Keras \n",
    "import keras as keras\n",
    "from keras import regularizers\n",
    "from keras.layers import concatenate\n",
    "from keras.models import Model\n",
    "from keras_tqdm import TQDMNotebookCallback\n",
    "from keras.models import load_model\n",
    "from keras.layers.merge import add, concatenate, Multiply\n",
    "from keras import regularizers\n",
    "from keras.utils import to_categorical\n",
    "\n",
    "# Libs\n",
    "from mpl_toolkits.mplot3d import Axes3D\n",
    "from matplotlib import cm\n",
    "import matplotlib.pyplot as plt\n",
    "import numpy as np\n",
    "import pandas as pd\n",
    "\n",
    "#sklearn\n",
    "from sklearn.model_selection import train_test_split\n",
    "from sklearn.preprocessing import OneHotEncoder\n",
    "\n",
    "#SciPy\n",
    "from scipy.ndimage import gaussian_filter\n",
    "from scipy.ndimage import map_coordinates"
   ]
  },
  {
   "cell_type": "markdown",
   "metadata": {},
   "source": [
    "## Import Data "
   ]
  },
  {
   "cell_type": "code",
   "execution_count": 80,
   "metadata": {},
   "outputs": [],
   "source": [
    "PATH = ''"
   ]
  },
  {
   "cell_type": "code",
   "execution_count": 81,
   "metadata": {},
   "outputs": [],
   "source": [
    "def load_data():\n",
    "    (train_images, train_labels), (test_images, test_labels) = datasets.cifar10.load_data()\n",
    "    return (train_images, train_labels), (test_images, test_labels)"
   ]
  },
  {
   "cell_type": "code",
   "execution_count": 82,
   "metadata": {},
   "outputs": [],
   "source": [
    " (x_train, y_train), (x_test, y_test) = load_data()"
   ]
  },
  {
   "cell_type": "code",
   "execution_count": 105,
   "metadata": {},
   "outputs": [
    {
     "name": "stdout",
     "output_type": "stream",
     "text": [
      "(50000, 1)\n"
     ]
    }
   ],
   "source": [
    "print(y_train.shape)"
   ]
  },
  {
   "cell_type": "code",
   "execution_count": 114,
   "metadata": {},
   "outputs": [],
   "source": [
    "class Dataset:\n",
    "    def __init__(self, name, preprocess = False, amplitude = [5], stdDev = [2], rotate_augment = False, angles = [60]):\n",
    "        self.name = name\n",
    "        self.isPreprocessed = preprocess\n",
    "        self.amplitude = amplitude\n",
    "        self.stdDev = stdDev\n",
    "        self.angles = angles\n",
    "        self.IMAGE_SIZE_CROP = 32\n",
    "        self.IMAGE_SIZE = 100\n",
    "        \n",
    "        (x_train, y_train), (x_test, y_test) = load_data()\n",
    "        \n",
    "        x_train = x_train/255.\n",
    "        x_test = x_test/255.\n",
    "        \n",
    "        self.X_train = x_train\n",
    "        \n",
    "        self.oneHotTransformer = OneHotEncoder(handle_unknown='ignore', sparse = False)\n",
    "        \n",
    "        self.Y_train = self.oneHotTransformer.fit_transform(y_train.reshape(-1, 1))\n",
    "        self.y_test = self.oneHotTransformer.fit_transform(y_test.reshape(-1, 1))\n",
    "    \n",
    "        self.splitData()\n",
    "        \n",
    "        if rotate_augment == True:\n",
    "            print(\"Augmentation of the dataset by rotation\")\n",
    "            Y_list = []\n",
    "            q = Queue()\n",
    "            p_ = []\n",
    "            for angle in self.angles:\n",
    "                p = Process(target=self.applyRotationToDataset, args=(X_train_original, angle, q,))\n",
    "                p_.append(p)\n",
    "                p.start()\n",
    "                print('*', end='')\n",
    "                Y = np.asarray(list(Y_train_original))\n",
    "                Y_list.append(Y)\n",
    "                print('\\n preparing for join')\n",
    "      \n",
    "            for i in range(0,len(Y_list)):\n",
    "                self.X_train = np.asarray(list(self.X_train) + list(q.get()))\n",
    "                self.Y_train = np.asarray( list(self.Y_train) + list(Y_list[i]))\n",
    "\n",
    "            for p in p_:\n",
    "                p.join()\n",
    "                print('*', end='')\n",
    "        \n",
    "    def convertData(self, data):\n",
    "        images = []\n",
    "        for dataLine in data:\n",
    "            if self.isPreprocessed == False:\n",
    "                images.append(np.reshape(dataLine[1], (self.IMAGE_SIZE, self.IMAGE_SIZE, 1)))\n",
    "            else:\n",
    "                images.append(np.reshape(dataLine, (self.IMAGE_SIZE_CROP, self.IMAGE_SIZE_CROP, 1)))\n",
    "        \n",
    "        return np.asarray(images)\n",
    "\n",
    "    def visualizeData(self, indexBegin, indexEnd, dataset = 'X_train'):\n",
    "        if dataset == 'X_train':\n",
    "            data = self.X_train\n",
    "        elif dataset == 'X_valid':\n",
    "            data = self.X_valid\n",
    "        elif dataset == 'X_test':\n",
    "            data = self.X_test\n",
    "        elif dataset == 'X_submission':\n",
    "            data = self.X_submission\n",
    "    \n",
    "        for index in range(indexBegin, indexEnd):\n",
    "            plt.imshow(np.reshape(data[index], (self.IMAGE_SIZE_CROP,self.IMAGE_SIZE_CROP)), cmap='Greys')\n",
    "            plt.show()\n",
    "\n",
    "    def splitData(self):\n",
    "        #self.X_train, self.X_test, self.Y_train, self.Y_test = train_test_split(self.X_train, self.Y_train, test_size=0.10, random_state=42)\n",
    "        self.X_train, self.X_valid, self.Y_train, self.Y_valid = train_test_split(self.X_train, self.Y_train, test_size=0.20, random_state=42)\n",
    "  \n",
    "    def applyRotationToDataset(self, dataset, angle, q):\n",
    "        rotated_dataset = []\n",
    "        for img in dataset:\n",
    "            img = np.reshape(img, (self.IMAGE_SIZE_CROP, self.IMAGE_SIZE_CROP))\n",
    "            img = self.rotate_image(img, angle)\n",
    "            rotated_dataset.append(np.reshape(img, (self.IMAGE_SIZE_CROP, self.IMAGE_SIZE_CROP, 1)))\n",
    "        q.put(np.asarray(rotated_dataset))\n",
    "\n",
    "    def rotate_image(self, image, angle):\n",
    "        center = tuple(np.array(image.shape[1::-1]) / 2)\n",
    "        matrix = cv2.getRotationMatrix2D(center, angle, 1.0)\n",
    "        result = cv2.warpAffine(image, matrix, image.shape[1::-1], flags=cv2.INTER_LINEAR)\n",
    "        return result\n"
   ]
  },
  {
   "cell_type": "code",
   "execution_count": 115,
   "metadata": {},
   "outputs": [],
   "source": [
    "dataset = Dataset('Data', False, amplitude = None, stdDev = None, rotate_augment = False, angles = None)"
   ]
  },
  {
   "cell_type": "code",
   "execution_count": 118,
   "metadata": {},
   "outputs": [
    {
     "name": "stdout",
     "output_type": "stream",
     "text": [
      "[0. 0. 1. 0. 0. 0. 0. 0. 0. 0.]\n"
     ]
    }
   ],
   "source": [
    "print(dataset.Y_train[1])"
   ]
  },
  {
   "cell_type": "markdown",
   "metadata": {},
   "source": [
    "## Model "
   ]
  },
  {
   "cell_type": "code",
   "execution_count": 119,
   "metadata": {},
   "outputs": [],
   "source": [
    "class TrainableModel:\n",
    "    def __init__(self, dataset, model, name = \"\", patience = 15):\n",
    "        self.name = name\n",
    "        self.dataset = dataset\n",
    "        self.model = model\n",
    "        self.es = EarlyStopping(monitor='val_loss', mode='min', verbose=1, patience=patience)\n",
    "        self.mc = ModelCheckpoint(PATH + 'best_model.h5', monitor='val_loss', mode='min', save_best_only=True)\n",
    "        self.optimizer = 'adam'\n",
    "        self.compileModel()\n",
    "\n",
    "    def evaluate(self):\n",
    "        #self.loadBestModel()\n",
    "        results = self.model.evaluate(self.dataset.X_test, self.dataset.Y_test, batch_size=128)\n",
    "        self.test_accuracy = results[1]\n",
    "        print(results)\n",
    "        with open(PATH + 'History_' + str(self.name) + '_' + str(self.dataset.name) + '_' + str(self.test_accuracy) + '.json', 'w') as f:\n",
    "            json.dump(self.history.history, f)\n",
    "    \n",
    "    def compileModel(self):\n",
    "        self.model.compile(optimizer= self.optimizer, loss=tf.keras.losses.categorical_crossentropy, metrics=['accuracy'])\n",
    "    \n",
    "    def softmaxVectorToOneHot(self, vector):\n",
    "        index = np.argmax(vector, axis=0)\n",
    "        oneHot = np.zeros(31)\n",
    "        oneHot[index] = 1\n",
    "        return oneHot\n",
    "\n",
    "    def submission(self):\n",
    "        #self.loadBestModel()\n",
    "        Y_predicted = self.model.predict(self.dataset.X_submission)\n",
    "        labels = []\n",
    "        for line in Y_predicted:\n",
    "            labels.append(self.dataset.oneHotTransformer.inverse_transform(self.softmaxVectorToOneHot(line).reshape(1, -1))[0][0])\n",
    "        df = pd.DataFrame()\n",
    "        df['Category'] = labels\n",
    "        df.insert(0, 'Id', range(0, len(df)))\n",
    "        df.to_csv(PATH + 'Submission-' + str(self.test_accuracy) + '.csv',index=False)\n",
    "\n",
    "    def fit(self, num_epochs = 300, batchSize = 32):\n",
    "        X = self.dataset.X_train\n",
    "        Y = self.dataset.Y_train\n",
    "        X_valid = self.dataset.X_valid\n",
    "        Y_valid = self.dataset.Y_valid\n",
    "        self.history = self.model.fit(X, Y, epochs=num_epochs, batch_size = batchSize, validation_data=(X_valid, Y_valid), callbacks=[self.es, self.mc])\n",
    "\n",
    "    def loadBestModel(self):\n",
    "        self.model = load_model(PATH + 'best_model.h5')\n",
    "\n",
    "    def fitOverAllData(self, num_epochs = 5):\n",
    "        X = self.dataset.X_ALL\n",
    "        Y = self.dataset.Y_ALL\n",
    "        self.history = self.model.fit(X, Y, epochs=num_epochs)\n",
    "\n",
    "    def graphFittingLoss(self):\n",
    "        plt.plot(self.history.history['loss'])\n",
    "        plt.plot(self.history.history['val_loss'])\n",
    "        plt.title('Model loss over the training steps')\n",
    "        plt.ylabel('loss')\n",
    "        plt.xlabel('epoch')\n",
    "        plt.legend(['train', 'test'], loc='upper left')\n",
    "        plt.show()\n",
    "\n",
    "    def graphFittingAccuracy(self):\n",
    "        plt.plot(self.history.history['accuracy'])\n",
    "        plt.plot(self.history.history['val_accuracy'])\n",
    "        plt.title('Model accuracy over the training steps')\n",
    "        plt.ylabel('accuracy')\n",
    "        plt.xlabel('epoch')\n",
    "        plt.legend(['train', 'test'], loc='upper left')"
   ]
  },
  {
   "cell_type": "markdown",
   "metadata": {},
   "source": [
    "## Dense Net "
   ]
  },
  {
   "cell_type": "code",
   "execution_count": 120,
   "metadata": {},
   "outputs": [],
   "source": [
    "RUN = True"
   ]
  },
  {
   "cell_type": "code",
   "execution_count": 121,
   "metadata": {},
   "outputs": [],
   "source": [
    "#This implementation of the DenseNet architecture is based on the fastai course\n",
    "#https://github.com/fastai/courses/blob/master/deeplearning2/densenet-keras.ipynb\n",
    "\n",
    "def convolution(x, numberFilters, filterSize, weigthDecay, p):\n",
    "    x = layers.Conv2D(numberFilters, (filterSize, filterSize), kernel_initializer='uniform', padding='same', kernel_regularizer = tf.keras.regularizers.l2(weigthDecay))(x)\n",
    "    return layers.Dropout(p)(x) if p else x\n",
    "\n",
    "def convolutionBlock(x, numberFilters, bottleneck=False, p=None, weigthDecay=0):\n",
    "    x = layers.Activation('relu')(layers.BatchNormalization(axis=-1)(x))\n",
    "    if bottleneck: x = layers.Activation('relu')(layers.BatchNormalization(axis=-1)(convolution(x, numberFilters * 4, 1, weigthDecay, p)))\n",
    "    return convolution(x, numberFilters, 3, weigthDecay, p)\n",
    "\n",
    "def denselyConnectedBlock(x, numberOfLayers, growthRate, bottleneck=False, p=None, weigthDecay=0):\n",
    "    if bottleneck: numberOfLayers //= 2\n",
    "    for i in range(numberOfLayers):\n",
    "        b = convolutionBlock(x, growthRate, bottleneck=bottleneck, p=p, weigthDecay=weigthDecay)\n",
    "        x = concatenate([x,b], -1)\n",
    "    return x\n",
    "\n",
    "def TransBlock(x, compression=1.0, p=None, weigthDecay=0):\n",
    "    numberFilters = int(x.get_shape().as_list()[-1] * compression)\n",
    "    x = layers.Activation('relu')(layers.BatchNormalization(axis=-1)(x))\n",
    "    x = convolution(x, numberFilters, 1, weigthDecay, p)\n",
    "    return layers.AveragePooling2D((2, 2), strides=(2, 2))(x)\n",
    "\n",
    "def Dense_Net_INIT(input, numberOfLabels, depth=40, blockCount=3, growthRate=12, filterCount=16, bottleneck=False, compression=1.0, p=None, weigthDecay=0):\n",
    "    numberOfLayers = [int((depth - 4) / blockCount)] * blockCount\n",
    "\n",
    "    x = convolution(input, filterCount, 3, weigthDecay, 0)\n",
    "    for i,block in enumerate(numberOfLayers):\n",
    "        x = denselyConnectedBlock(x, block, growthRate, bottleneck=bottleneck, p=p, weigthDecay=weigthDecay)\n",
    "        if i != len(numberOfLayers)-1:\n",
    "            x = TransBlock(x, compression=compression, p=p, weigthDecay=weigthDecay)\n",
    "\n",
    "    x = layers.Activation('relu')(layers.BatchNormalization(axis=-1)(x))\n",
    "    x = layers.GlobalAveragePooling2D()(x)\n",
    "    return layers.Dense(numberOfLabels, activation='softmax', kernel_regularizer=regularizers.l2(weigthDecay))(x)"
   ]
  },
  {
   "cell_type": "code",
   "execution_count": 122,
   "metadata": {},
   "outputs": [],
   "source": [
    "input = layers.Input(shape=(32, 32, 3))\n",
    "output = Dense_Net_INIT(input, 10, depth = 100, growthRate=36)\n",
    "model = models.Model(input, output)"
   ]
  },
  {
   "cell_type": "code",
   "execution_count": null,
   "metadata": {},
   "outputs": [
    {
     "name": "stdout",
     "output_type": "stream",
     "text": [
      "Epoch 1/100\n",
      "  45/1250 [>.............................] - ETA: 10:42:16 - loss: 7.9719 - accuracy: 0.1319"
     ]
    }
   ],
   "source": [
    "if RUN:\n",
    "    denseNet = TrainableModel(dataset, model, name = \"DenseNet\")\n",
    "    denseNet.optimizer = tf.keras.optimizers.SGD(0.1, 0.9, nesterov=True)\n",
    "    denseNet.compileModel()\n",
    "    denseNet.fit(num_epochs = 100)\n",
    "    denseNet.evaluate()\n",
    "    denseNet.submission()"
   ]
  },
  {
   "cell_type": "code",
   "execution_count": null,
   "metadata": {},
   "outputs": [],
   "source": []
  }
 ],
 "metadata": {
  "kernelspec": {
   "display_name": "Python 3",
   "language": "python",
   "name": "python3"
  },
  "language_info": {
   "codemirror_mode": {
    "name": "ipython",
    "version": 3
   },
   "file_extension": ".py",
   "mimetype": "text/x-python",
   "name": "python",
   "nbconvert_exporter": "python",
   "pygments_lexer": "ipython3",
   "version": "3.8.3"
  }
 },
 "nbformat": 4,
 "nbformat_minor": 4
}
