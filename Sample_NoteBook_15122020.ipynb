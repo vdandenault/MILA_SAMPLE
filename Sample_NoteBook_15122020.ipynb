{
 "cells": [
  {
   "cell_type": "markdown",
   "metadata": {},
   "source": [
    "# This is a short notebook to show sample code for my master's application to MILA. \n",
    "\n",
    "## Thank you for taking the time to read this. Feel free to reachout if you have any questions or comments regarding this. \n",
    "\n",
    "#### Vincent Dandenault - vincent.dandenault@polymtl.ca "
   ]
  },
  {
   "cell_type": "code",
   "execution_count": null,
   "metadata": {},
   "outputs": [],
   "source": []
  }
 ],
 "metadata": {
  "kernelspec": {
   "display_name": "Python 3",
   "language": "python",
   "name": "python3"
  },
  "language_info": {
   "codemirror_mode": {
    "name": "ipython",
    "version": 3
   },
   "file_extension": ".py",
   "mimetype": "text/x-python",
   "name": "python",
   "nbconvert_exporter": "python",
   "pygments_lexer": "ipython3",
   "version": "3.8.3"
  }
 },
 "nbformat": 4,
 "nbformat_minor": 4
}
